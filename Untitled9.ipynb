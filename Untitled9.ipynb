{
 "cells": [
  {
   "cell_type": "markdown",
   "id": "6aa575c6",
   "metadata": {},
   "source": [
    "Analysis 1\n",
    "Research Question: Which age group was the sample taken from? Are we trying to understand a population averaging 40 years old? 50 years old? 60 years old? Or from every age group? \n",
    "\n",
    "Variables: We need the sample mean, sample standard deviation and sample size. These three variables will be used to infer the population mean and estimate the population SD. We can use a histogram of bin size 1, representing every participant. The histogram will allow us to see the distribution of ages of all the participants, giving us a better idea about the sample mean and sample SD. \n",
    "\n",
    "Plan: I want to find out who I am trying to study. Are they old? Are they young? Or are they young and old? Therefore, I will be making an inference about the population mean, and an estimation about the population SD to study the spread of ages. I will need the sample mean and sample standard deviation. I will follow the steps to first calculate the standard error of the sample mean, find a confidence level and use them to construct a confidence level that we are some percentage confident that the population mean falls between. When a sample size is large enough, their standard deviation can be used to estimate the population. In this case, the sample size is 11431, which is quite large. Therefore, we will use the sample SD as the population SD. \n",
    "\n",
    "Result: I should be expecting to see an interval and a value (sample SD). The interval range will depend on the confidence level I choose. This interval will tell me the average age of the population we examined. The value (sample SD) that we got can be used to estimate the population SD. If the value is large, then the population consists of a wide range of ages. Visa versa. Although the result will not give me anything exact, I can use it to tell if the sample was collected from all age groups or, if not, from which range. "
   ]
  },
  {
   "cell_type": "markdown",
   "id": "f24d4052",
   "metadata": {},
   "source": [
    "Analysis 2\n",
    "Research Question: Do the data collected show that the older the person, the more friends they have?\n",
    "\n",
    "Variables: ages of individual, social_num_close_friends_grouped of the individual. Since I am trying to find out if there’s a relationship between the two variables, I will conduct a correlation study. I will find the association between the two variables, and I will use a scatterplot. The x-axis will be the age and the y-axis will be the number of close friends they have. NA indicates 0 friends, 1-2 indicates 1.5 friends, 3-4 indicates 3.5 friends and 5 or more indicates 5 friends. \n",
    "\n",
    "Plan:  I will use the Python library statsmodels.formula.api’s function smf.ols() to find the correlation coefficient between the two variables.\n",
    "\n",
    "Results: I should be expecting to get the correlation coefficient. A negative value close to -1 indicates that as one’s age increases, the number of close friends will decrease. A positive value close to 1 indicates that as one’s age increases, the number of close friends will increase. If the number is close to 0, then that means when one’s age changes, the number of close friends will change slightly, but their relationship is not that strong. This analysis will not give me a conclusion. The result will not conclude but instead suggest me if there’s a relationship between the age and number of close friends.\n"
   ]
  },
  {
   "cell_type": "markdown",
   "id": "3797e3f1",
   "metadata": {},
   "source": [
    "Analysis 3:\n",
    "Research Question: Is Indigenous people’s acceptance of Covid vaccines different from those who are from another race?\n",
    "\n",
    "Variables: identity_indigenous of individual, the vaccinated column of individual, number of people identified as indigenous, number of people who is not identified as indigenous. I will be doing a hypotheses test, I will need the number of people from each group, and the percentage of them who had taken the vaccines. In this analysis, any input that’s not zero is considered taken the vaccines. I will use a bar chart. The x-axis will be the indigenous people, and the non-indigenous people and the y-axis will be the numbers indicating the percentages of each group that have taken the vaccines. \n",
    "\n",
    "Plan: I will first determine a significance level. I will conduct a hypothesis test. I will decide on my null and alternative hypotheses. H0 : p1 = p2. And calculate to find out the p-value. If the p-value is below the significance level, then we’ll reject the null hypothesis. Otherwise, we fail to reject the null hypothese, there’s no difference between the percentage of Indigenous and non-indigenous taking the vaccines.\n",
    "\n",
    "\n",
    "Results: I will get a result telling me either I reject or fail to reject the null hypothesis. If we fail to reject, then that means indigenous people’s acceptance of Covid vaccines is no different from those who are from another race because the same percentages of Indigenous people had taken the vaccines. Otherwise, it tells me that Indigenous people’s acceptance of Covid vaccines is different from other races.\n"
   ]
  },
  {
   "cell_type": "code",
   "execution_count": null,
   "id": "b8d3479a",
   "metadata": {},
   "outputs": [],
   "source": []
  }
 ],
 "metadata": {
  "kernelspec": {
   "display_name": "Python 3 (ipykernel)",
   "language": "python",
   "name": "python3"
  },
  "language_info": {
   "codemirror_mode": {
    "name": "ipython",
    "version": 3
   },
   "file_extension": ".py",
   "mimetype": "text/x-python",
   "name": "python",
   "nbconvert_exporter": "python",
   "pygments_lexer": "ipython3",
   "version": "3.11.6"
  }
 },
 "nbformat": 4,
 "nbformat_minor": 5
}
